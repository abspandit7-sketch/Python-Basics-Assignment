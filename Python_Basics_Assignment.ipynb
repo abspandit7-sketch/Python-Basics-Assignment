{
  "nbformat": 4,
  "nbformat_minor": 0,
  "metadata": {
    "colab": {
      "provenance": []
    },
    "kernelspec": {
      "name": "python3",
      "display_name": "Python 3"
    },
    "language_info": {
      "name": "python"
    }
  },
  "cells": [
    {
      "cell_type": "markdown",
      "source": [
        "# **Python Basics Assignment**\n",
        "**Q&A**\n",
        "\n",
        "\n",
        "1. What is Python, and why is it popular?\n",
        "   - Python is a high level, easy to learn programming language used for web development, data science, automation, AI, and more. It is popular because it has simple syntax, a huge library support, and a large community, making coding faster and easier.\n",
        "2. What is an interpreter in Python?\n",
        "   - An interpreter in Python is a program that reads and executes Python code line by line, directly converting it into machine language so the computer can run it. It allows you to run code without compiling, making Python easy to test and debug.\n",
        "3. What are pre-defined keywords in Python?\n",
        "   - Pre-defined keywords in Python are special reserved words that have fixed meanings and are used to define the syntax and structure of Python programs.Examples: if, else, while, for, class, def, import, True, False, None. You cannot use these keywords as variable names or identifiers.\n",
        "4. Can keywords be used as variable names?\n",
        "   - No, keywords cannot be used as variable names in Python because they have special meanings in the language and are reserved for specific purposes.\n",
        "5. What is mutability in Python?\n",
        "   - Mutability in Python means whether the value of an object can be changed after it is created. Mutable objects: Can be changed (e.g., list, dict, set).Immutable objects: Cannot be changed (e.g., int, float, string, tuple).\n",
        "6. Why are lists mutable, but tuples are immutable?\n",
        "   - Lists are mutable because they are designed to let you add, remove, or change elements after creation. Tuples are immutable because they are meant to store fixed collections of items that should not change, which makes them faster and safer to use as keys in dictionaries or in situations where data must stay constant.\n",
        "7.  What is the difference between “==” and “is” operators in Python?\n",
        "    - The difference is: == **Equality operator** checks if the values of two objects are the same.\n",
        "      \"is\" **Identity operator** checks if two objects refer to the same memory location.\n",
        "8. What are logical operators in Python?\n",
        "   - Logical operators in Python are used to make decisions by combining conditions. They are:\n",
        "\n",
        "     **and** → returns True if both conditions are True.\n",
        "\n",
        "     **or** → returns True if at least one condition is True.\n",
        "\n",
        "     **not** → returns the opposite of the condition.\n",
        "\n",
        "\n",
        "9. What is type casting in Python?\n",
        "   - Type casting in Python means converting one data type into another.\n",
        "\n",
        "     Two types:\n",
        "\n",
        "     a) Implicit casting (done automatically by Python)\n",
        "\n",
        "     b) Explicit casting (done manually using functions like int(), float(), str())\n",
        "10. What is the difference between implicit and explicit type casting?\n",
        "    - Implicit type casting (Type conversion) is done automatically by Python. The interpreter converts smaller data types into larger ones to avoid data loss.\n",
        "\n",
        "        Example:\n",
        "\n",
        "       a = 5  # int\n",
        "\n",
        "       b = 2.5    # float\n",
        "\n",
        "      print(a + b)  # 7.5 (int converted to float automatically)\n",
        "\n",
        "\n",
        "       Explicit type casting (Type casting) is done manually by the programmer using functions like int(), float(), str().\n",
        "\n",
        "      Example:\n",
        "\n",
        "      x = \"100\"\n",
        "      y = int(x)   # string → int\n",
        "      print(y + 10)  # 110\n",
        "\n",
        "      Implicit = automatic, Explicit = manual.\n",
        "\n",
        "11. What is the purpose of conditional statements in Python?\n",
        "    - The purpose of conditional statements in Python is to let a program make decisions and execute certain blocks of code only when specific conditions are True.\n",
        "12. How does the elif statement work?\n",
        "    - The elif (else if) statement in Python is used to check multiple conditions one by one.\n",
        "      Python checks conditions from top to bottom. The first condition that is True will run, and the rest are skipped. If none are True, the else block (if present) runs.\n",
        "\n",
        "      Example:\n",
        "\n",
        "       marks = 75\n",
        "\n",
        "      if marks >= 90:\n",
        "\n",
        "      print(\"Grade A\")\n",
        "\n",
        "      elif marks >= 75:\n",
        "\n",
        "       print(\"Grade B\")\n",
        "\n",
        "       elif marks >= 60:\n",
        "\n",
        "       print(\"Grade C\")\n",
        "\n",
        "       else:\n",
        "\n",
        "       print(\"Grade D\")\n",
        "\n",
        "\n",
        "       Output: Grade B (because marks >= 75 is True, so others are skipped).\n",
        "\n",
        "\n",
        "\n",
        "13. What is the difference between for and while loops?\n",
        "    - The difference between for loop and while loop in Python:\n",
        "\n",
        "      **for loop** is Used when you know how many times you want to repeat (fixed number of iterations).\n",
        "\n",
        "      **while loop** is Used when you want to repeat until a condition becomes False (unknown number of iterations)\n",
        "14. Describe a scenario where a while loop is more suitable than a for loop?\n",
        "    - A while loop is more suitable when you dont know in advance how many times the loop should run, and it depends on the condition.\n",
        "\n",
        "        Scenario: ATM PIN verification\n",
        "\n",
        "       pin = \"1234\"\n",
        "       user_input = \"\"\n",
        "\n",
        "       while user_input != pin:\n",
        "       user_input = input(\"Enter your PIN: \")\n",
        "\n",
        "      print(\"Access Granted\")\n",
        "\n",
        "      As we dont know how many attempts the user will take to enter the correct PIN, so a while loop is the best choice.\n",
        "\n",
        "\n",
        "      \n",
        "\n",
        "\n",
        "\n",
        "\n",
        "\n",
        "\n",
        "\n"
      ],
      "metadata": {
        "id": "N9Zt8q5jM-Sb"
      }
    },
    {
      "cell_type": "code",
      "source": [
        "# Practical Q$A\n",
        "# 1. Write a Python program to print \"Hello, World!\"?\n",
        "print(\"Hello, World!\")\n",
        "'''This the answer of the question Q1'''\n"
      ],
      "metadata": {
        "colab": {
          "base_uri": "https://localhost:8080/",
          "height": 53
        },
        "id": "AfSJkv3xcr_Z",
        "outputId": "832aa907-e94e-4c5f-aae9-45429f1e16a7"
      },
      "execution_count": 52,
      "outputs": [
        {
          "output_type": "stream",
          "name": "stdout",
          "text": [
            "Hello, World!\n"
          ]
        },
        {
          "output_type": "execute_result",
          "data": {
            "text/plain": [
              "'This the answer of the question Q1'"
            ],
            "application/vnd.google.colaboratory.intrinsic+json": {
              "type": "string"
            }
          },
          "metadata": {},
          "execution_count": 52
        }
      ]
    },
    {
      "cell_type": "code",
      "source": [
        "# 2. Write a Python program that displays your name and age?\n",
        "name = \"Abhishek Pandit\"\n",
        "age = 23\n",
        "print(\"My name is\", name)\n",
        "print(\"I am\", age, \"years old\")\n",
        "'''This the answer of the question Q2'''"
      ],
      "metadata": {
        "colab": {
          "base_uri": "https://localhost:8080/",
          "height": 70
        },
        "id": "Q5XkZ4zK0BnS",
        "outputId": "45890d47-75b9-45b7-a598-8878dde0e848"
      },
      "execution_count": 51,
      "outputs": [
        {
          "output_type": "stream",
          "name": "stdout",
          "text": [
            "My name is Abhishek Pandit\n",
            "I am 23 years old\n"
          ]
        },
        {
          "output_type": "execute_result",
          "data": {
            "text/plain": [
              "'This the answer of the question Q2'"
            ],
            "application/vnd.google.colaboratory.intrinsic+json": {
              "type": "string"
            }
          },
          "metadata": {},
          "execution_count": 51
        }
      ]
    },
    {
      "cell_type": "code",
      "source": [
        "# 3. Write code to print all the pre-defined keywords in Python using the keyword library?\n",
        "import keyword\n",
        "print(keyword.kwlist)\n",
        "'''This is the answer of the question Q3'''\n"
      ],
      "metadata": {
        "colab": {
          "base_uri": "https://localhost:8080/",
          "height": 73
        },
        "id": "_6gEQk5ufFIf",
        "outputId": "a7fc03e6-4db7-4aae-cc54-f3bf13a75f48"
      },
      "execution_count": 10,
      "outputs": [
        {
          "output_type": "stream",
          "name": "stdout",
          "text": [
            "['False', 'None', 'True', 'and', 'as', 'assert', 'async', 'await', 'break', 'class', 'continue', 'def', 'del', 'elif', 'else', 'except', 'finally', 'for', 'from', 'global', 'if', 'import', 'in', 'is', 'lambda', 'nonlocal', 'not', 'or', 'pass', 'raise', 'return', 'try', 'while', 'with', 'yield']\n"
          ]
        },
        {
          "output_type": "execute_result",
          "data": {
            "text/plain": [
              "'This is the answer of the question Q3'"
            ],
            "application/vnd.google.colaboratory.intrinsic+json": {
              "type": "string"
            }
          },
          "metadata": {},
          "execution_count": 10
        }
      ]
    },
    {
      "cell_type": "code",
      "source": [
        "# 4. Write a program that checks if a given word is a Python keyword.\n",
        "import keyword\n",
        "\n",
        "word = input(\"Enter a word: \")\n",
        "\n",
        "if keyword.iskeyword(word):\n",
        "    print(word, \"is a Python keyword\")\n",
        "else:\n",
        "    print(word, \"is NOT a Python keyword\")\n",
        "    '''This is the answer of the question Q4'''"
      ],
      "metadata": {
        "colab": {
          "base_uri": "https://localhost:8080/"
        },
        "id": "piPGwyhZgNUd",
        "outputId": "b2b4f0a6-fe7f-4130-ea0d-33fe6e8f2110"
      },
      "execution_count": 15,
      "outputs": [
        {
          "output_type": "stream",
          "name": "stdout",
          "text": [
            "Enter a word: from\n",
            "from is a Python keyword\n"
          ]
        }
      ]
    },
    {
      "cell_type": "code",
      "source": [
        "# 5.  Create a list and tuple in Python, and demonstrate how attempting to change an element works differently for each.\n",
        "# Creating a list and a tuple\n",
        "my_list = [10, 20, 30]\n",
        "my_tuple = (10, 20, 30)\n",
        "\n",
        "# Changing an element in the list\n",
        "my_list[0] = 99   # Works (lists are mutable)\n",
        "print(\"Updated List:\", my_list)\n",
        "\n",
        "# Trying to change an element in the tuple\n",
        "try:\n",
        "    my_tuple[0] = 99   # Error (tuples are immutable)\n",
        "except TypeError as e:\n",
        "    print(\"Error when changing tuple:\", e)\n",
        "    '''This is the answer of the question Q5'''\n"
      ],
      "metadata": {
        "colab": {
          "base_uri": "https://localhost:8080/"
        },
        "id": "mulMeYRMhdJt",
        "outputId": "50a95b1a-04f6-455b-f1b3-fd0624679b0f"
      },
      "execution_count": 17,
      "outputs": [
        {
          "output_type": "stream",
          "name": "stdout",
          "text": [
            "Updated List: [99, 20, 30]\n",
            "Error when changing tuple: 'tuple' object does not support item assignment\n"
          ]
        }
      ]
    },
    {
      "cell_type": "markdown",
      "source": [],
      "metadata": {
        "id": "kNWsgwz9Vf_w"
      }
    },
    {
      "cell_type": "code",
      "source": [
        "# 6.  Write a function to demonstrate the behavior of mutable and immutable arguments?\n",
        "def modify_list(lst):\n",
        "    lst.append(4)\n",
        "\n",
        "my_list = [1, 2, 3]\n",
        "modify_list(my_list)\n",
        "print(\"Modified List:\", my_list)\n",
        "'''This is the answer of the question Q6'''"
      ],
      "metadata": {
        "colab": {
          "base_uri": "https://localhost:8080/",
          "height": 53
        },
        "id": "XElk30IKizFu",
        "outputId": "47a8d468-9990-4389-f54a-a1d6607695b9"
      },
      "execution_count": 20,
      "outputs": [
        {
          "output_type": "stream",
          "name": "stdout",
          "text": [
            "Modified List: [1, 2, 3, 4]\n"
          ]
        },
        {
          "output_type": "execute_result",
          "data": {
            "text/plain": [
              "'This is the answer of the question Q6'"
            ],
            "application/vnd.google.colaboratory.intrinsic+json": {
              "type": "string"
            }
          },
          "metadata": {},
          "execution_count": 20
        }
      ]
    },
    {
      "cell_type": "code",
      "source": [
        "# 7. Write a program that performs basic arithmetic operations on two user-input numbers?\n",
        "num1 = float(input(\"Enter the first number: \"))\n",
        "num2 = float(input(\"Enter the second number: \"))\n",
        "\n",
        "addition = num1 + num2\n",
        "subtraction = num1 - num2\n",
        "multiplication = num1 * num2\n",
        "division = num1 / num2\n",
        "floor_division = num1 // num2\n",
        "exponent = num1 ** num2\n",
        "\n",
        "print(\"Addition:\", addition)\n",
        "print(\"Subtraction:\", subtraction)\n",
        "print(\"Multiplication:\", multiplication)\n",
        "print(\"Division:\", division)\n",
        "print(\"Floor division:\", floor_division)\n",
        "print(\"Exponent:\", exponent)\n",
        "\n",
        "'''This is the answer of the question Q7'''\n",
        "\n"
      ],
      "metadata": {
        "colab": {
          "base_uri": "https://localhost:8080/",
          "height": 174
        },
        "id": "rN491B0XjZnE",
        "outputId": "52e2f50c-b4d3-49c2-aa0a-496a41a8e449"
      },
      "execution_count": 27,
      "outputs": [
        {
          "output_type": "stream",
          "name": "stdout",
          "text": [
            "Enter the first number: 85\n",
            "Enter the second number: 73\n",
            "Addition: 158.0\n",
            "Subtraction: 12.0\n",
            "Multiplication: 6205.0\n",
            "Division: 1.1643835616438356\n",
            "Floor division: 1.0\n",
            "Exponent: 7.040144564059818e+140\n"
          ]
        },
        {
          "output_type": "execute_result",
          "data": {
            "text/plain": [
              "'This is the answer of the question Q7'"
            ],
            "application/vnd.google.colaboratory.intrinsic+json": {
              "type": "string"
            }
          },
          "metadata": {},
          "execution_count": 27
        }
      ]
    },
    {
      "cell_type": "code",
      "metadata": {
        "colab": {
          "base_uri": "https://localhost:8080/",
          "height": 140
        },
        "id": "2c1aa60b",
        "outputId": "db871dea-146f-4da9-df10-2fab364ab160"
      },
      "source": [
        "# 8. Write a program to demonstrate the use of logical operators?\n",
        "\n",
        "x = 10\n",
        "y = 20\n",
        "z = 5\n",
        "\n",
        "# Using 'and' operator\n",
        "print(\"x > 5 and y > 15:\", x > 5 and y > 15)  # True and True -> True\n",
        "print(\"x > 15 and y > 15:\", x > 15 and y > 15) # False and True -> False\n",
        "\n",
        "# Using 'or' operator\n",
        "print(\"x > 15 or y > 15:\", x > 15 or y > 15)   # False or True -> True\n",
        "print(\"x > 15 or y < 15:\", x > 15 or y < 15)   # False or False -> False\n",
        "\n",
        "# Using 'not' operator\n",
        "print(\"not(x > 5 and y > 15):\", not(x > 5 and y > 15)) # not(True) -> False\n",
        "print(\"not(x > 15 or y < 15):\", not(x > 15 or y < 15)) # not(False) -> True\n",
        "'''This is the answer of the question Q8'''"
      ],
      "execution_count": 23,
      "outputs": [
        {
          "output_type": "stream",
          "name": "stdout",
          "text": [
            "x > 5 and y > 15: True\n",
            "x > 15 and y > 15: False\n",
            "x > 15 or y > 15: True\n",
            "x > 15 or y < 15: False\n",
            "not(x > 5 and y > 15): False\n",
            "not(x > 15 or y < 15): True\n"
          ]
        },
        {
          "output_type": "execute_result",
          "data": {
            "text/plain": [
              "'This is the answer of the question Q8'"
            ],
            "application/vnd.google.colaboratory.intrinsic+json": {
              "type": "string"
            }
          },
          "metadata": {},
          "execution_count": 23
        }
      ]
    },
    {
      "cell_type": "code",
      "source": [
        "# Q9. Write a Python program to convert user input from string to integer, float, and boolean types?\n",
        "# Get user input as a string\n",
        "user_input = input(\"Enter something: \")\n",
        "\n",
        "# Convert to integer\n",
        "try:\n",
        "    int_value = int(user_input)\n",
        "    print(\"Integer:\", int_value)\n",
        "except ValueError:\n",
        "    print(\"Cannot convert to Integer\")\n",
        "\n",
        "# Convert to float\n",
        "try:\n",
        "    float_value = float(user_input)\n",
        "    print(\"Float:\", float_value)\n",
        "except ValueError:\n",
        "    print(\"Cannot convert to Float\")\n",
        "\n",
        "# Convert to boolean\n",
        "# In Python, empty strings, 0, 0.0 are False; everything else is True\n",
        "bool_value = bool(user_input)\n",
        "print(\"Boolean:\", bool_value)\n",
        "'''This is the answer of the question Q9'''\n",
        "\n",
        "\n"
      ],
      "metadata": {
        "colab": {
          "base_uri": "https://localhost:8080/",
          "height": 105
        },
        "id": "gh_gCkSLmEDM",
        "outputId": "dd2901ae-ca1b-4854-f0cb-8b9eca1097d1"
      },
      "execution_count": 53,
      "outputs": [
        {
          "output_type": "stream",
          "name": "stdout",
          "text": [
            "Enter something: 25\n",
            "Integer: 25\n",
            "Float: 25.0\n",
            "Boolean: True\n"
          ]
        },
        {
          "output_type": "execute_result",
          "data": {
            "text/plain": [
              "'This is the answer of the question Q9'"
            ],
            "application/vnd.google.colaboratory.intrinsic+json": {
              "type": "string"
            }
          },
          "metadata": {},
          "execution_count": 53
        }
      ]
    },
    {
      "cell_type": "code",
      "source": [
        "# 10. Write code to demonstrate type casting with list elements?\n",
        "# Original list with string numbers\n",
        "str_list = [\"10\", \"20\", \"30\", \"40\"]\n",
        "\n",
        "# Convert each element to integer using list comprehension\n",
        "int_list = [int(x) for x in str_list]\n",
        "\n",
        "# Convert each element to float\n",
        "float_list = [float(x) for x in str_list]\n",
        "\n",
        "# Display results\n",
        "print(\"Original list (strings):\", str_list)\n",
        "print(\"List after converting to integers:\", int_list)\n",
        "print(\"List after converting to floats:\", float_list)\n",
        "'''This is the answer of the question Q10'''\n"
      ],
      "metadata": {
        "colab": {
          "base_uri": "https://localhost:8080/",
          "height": 88
        },
        "id": "_uK0FxCapohv",
        "outputId": "4be1ed80-4d92-494a-f652-1dbd5d38a748"
      },
      "execution_count": 54,
      "outputs": [
        {
          "output_type": "stream",
          "name": "stdout",
          "text": [
            "Original list (strings): ['10', '20', '30', '40']\n",
            "List after converting to integers: [10, 20, 30, 40]\n",
            "List after converting to floats: [10.0, 20.0, 30.0, 40.0]\n"
          ]
        },
        {
          "output_type": "execute_result",
          "data": {
            "text/plain": [
              "'This is the answer of the question Q10'"
            ],
            "application/vnd.google.colaboratory.intrinsic+json": {
              "type": "string"
            }
          },
          "metadata": {},
          "execution_count": 54
        }
      ]
    },
    {
      "cell_type": "code",
      "source": [
        "# 11. Write a program that checks if a number is positive, negative, or zero.\n",
        "# Get user input\n",
        "num = float(input(\"Enter a number: \"))\n",
        "\n",
        "# Check if positive, negative, or zero\n",
        "if num > 0:\n",
        "    print(\"The number is positive\")\n",
        "elif num < 0:\n",
        "    print(\"The number is negative\")\n",
        "else:\n",
        "    print(\"The number is zero\")\n",
        "    '''This is the answer of the question Q11'''\n"
      ],
      "metadata": {
        "colab": {
          "base_uri": "https://localhost:8080/"
        },
        "id": "pNq8Pvker7bv",
        "outputId": "ed2df269-f4e1-49f8-9012-5c541d7a297e"
      },
      "execution_count": 55,
      "outputs": [
        {
          "output_type": "stream",
          "name": "stdout",
          "text": [
            "Enter a number: 5\n",
            "The number is positive\n"
          ]
        }
      ]
    },
    {
      "cell_type": "code",
      "source": [
        "# 12. Write a for loop to print numbers from 1 to 10?\n",
        "# For loop to print numbers 1 to 10\n",
        "for i in range(1, 11):\n",
        "    print(i)\n",
        "    '''This is the answer of the question Q12'''\n"
      ],
      "metadata": {
        "colab": {
          "base_uri": "https://localhost:8080/"
        },
        "id": "o4udMuzQwrq3",
        "outputId": "95521261-8b25-40be-b2c2-ce3339a7721e"
      },
      "execution_count": 56,
      "outputs": [
        {
          "output_type": "stream",
          "name": "stdout",
          "text": [
            "1\n",
            "2\n",
            "3\n",
            "4\n",
            "5\n",
            "6\n",
            "7\n",
            "8\n",
            "9\n",
            "10\n"
          ]
        }
      ]
    },
    {
      "cell_type": "code",
      "source": [
        "# 13.  Write a Python program to find the sum of all even numbers between 1 and 50.\n",
        "# Initialize sum\n",
        "sum_even = 0\n",
        "\n",
        "# Loop through numbers from 1 to 50\n",
        "for i in range(1, 51):\n",
        "    if i % 2 == 0:       # Check if number is even\n",
        "        sum_even += i\n",
        "\n",
        "# Display the result\n",
        "print(\"Sum of all even numbers from 1 to 50 is:\", sum_even)\n",
        "'''This is the answer of the question Q13'''\n"
      ],
      "metadata": {
        "colab": {
          "base_uri": "https://localhost:8080/",
          "height": 53
        },
        "id": "uTTzfkPWxKi3",
        "outputId": "0221c273-4a3e-4597-ace9-dee8a04f1f94"
      },
      "execution_count": 57,
      "outputs": [
        {
          "output_type": "stream",
          "name": "stdout",
          "text": [
            "Sum of all even numbers from 1 to 50 is: 650\n"
          ]
        },
        {
          "output_type": "execute_result",
          "data": {
            "text/plain": [
              "'This is the answer of the question Q13'"
            ],
            "application/vnd.google.colaboratory.intrinsic+json": {
              "type": "string"
            }
          },
          "metadata": {},
          "execution_count": 57
        }
      ]
    },
    {
      "cell_type": "code",
      "source": [
        "# 14. Write a program to reverse a string using a while loop.\n",
        "# Get user input\n",
        "string = input(\"Enter a string: \")\n",
        "\n",
        "# Initialize variables\n",
        "reversed_string = \"\"\n",
        "index = len(string) - 1  # Start from last character\n",
        "\n",
        "# Loop to reverse the string\n",
        "while index >= 0:\n",
        "    reversed_string += string[index]\n",
        "    index -= 1\n",
        "\n",
        "# Display the reversed string\n",
        "print(\"Reversed string:\", reversed_string)\n",
        "'''This is the answer of the question Q14'''"
      ],
      "metadata": {
        "colab": {
          "base_uri": "https://localhost:8080/",
          "height": 70
        },
        "id": "C9XB9Z2XxyOC",
        "outputId": "c6ff12e6-f24c-4d38-f76e-b51d4089d0c9"
      },
      "execution_count": 58,
      "outputs": [
        {
          "output_type": "stream",
          "name": "stdout",
          "text": [
            "Enter a string: 5\n",
            "Reversed string: 5\n"
          ]
        },
        {
          "output_type": "execute_result",
          "data": {
            "text/plain": [
              "'This is the answer of the question Q14'"
            ],
            "application/vnd.google.colaboratory.intrinsic+json": {
              "type": "string"
            }
          },
          "metadata": {},
          "execution_count": 58
        }
      ]
    },
    {
      "cell_type": "code",
      "source": [
        "# 15. Write a Python program to calculate the factorial of a number provided by the user using a while loop?\n",
        "# Get user input\n",
        "num = int(input(\"Enter a non-negative integer: \"))\n",
        "\n",
        "# Initialize variables\n",
        "factorial = 1\n",
        "n = num\n",
        "\n",
        "# Check for negative input\n",
        "if num < 0:\n",
        "    print(\"Factorial does not exist for negative numbers\")\n",
        "else:\n",
        "    # Calculate factorial using while loop\n",
        "    while n > 0:\n",
        "        factorial *= n\n",
        "        n -= 1\n",
        "    print(f\"Factorial of {num} is: {factorial}\")\n",
        "    '''This the answer of the question Q15'''\n"
      ],
      "metadata": {
        "colab": {
          "base_uri": "https://localhost:8080/"
        },
        "id": "Q0hhq4OTyeEv",
        "outputId": "fdb97a9e-eb5a-4799-fcdd-143ccc5b1c82"
      },
      "execution_count": 59,
      "outputs": [
        {
          "output_type": "stream",
          "name": "stdout",
          "text": [
            "Enter a non-negative integer: 25\n",
            "Factorial of 25 is: 15511210043330985984000000\n"
          ]
        }
      ]
    },
    {
      "cell_type": "code",
      "source": [],
      "metadata": {
        "id": "8zVtVwtP0oG8"
      },
      "execution_count": null,
      "outputs": []
    }
  ]
}